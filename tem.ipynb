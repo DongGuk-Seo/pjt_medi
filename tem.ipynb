{
 "cells": [
  {
   "cell_type": "code",
   "execution_count": 21,
   "metadata": {},
   "outputs": [],
   "source": [
    "import pandas as pd"
   ]
  },
  {
   "cell_type": "code",
   "execution_count": 22,
   "metadata": {},
   "outputs": [],
   "source": [
    "l = pd.read_parquet('data/articles/articles.parquet')"
   ]
  },
  {
   "cell_type": "code",
   "execution_count": 29,
   "metadata": {},
   "outputs": [
    {
     "data": {
      "text/plain": [
       "'<h2><span lang=\"KO-KR\"><strong>목표</strong></span><strong><span lang=\"KO-KR\">&nbsp;</span><span lang=\"KO-KR\">&nbsp;</span>&nbsp;</strong></h2><p><span lang=\"KO-KR\">&nbsp;환자</span><span lang=\"KO-KR\">의</span><span lang=\"KO-KR\">&nbsp;현재 증상과 MRI 영상을&nbsp;</span><span lang=\"KO-KR\">연결시킬 수 있음 &amp;</span><span lang=\"EN-US\">&nbsp;</span><span lang=\"EN-US\">MRI를</span><span lang=\"EN-US\">&nbsp;</span><span lang=\"EN-US\">환자에게</span><span lang=\"EN-US\">&nbsp;</span><span lang=\"KO-KR\">정확히 설명할 수 있는 능력을&nbsp;</span><span lang=\"KO-KR\">가짐</span><span lang=\"KO-KR\">&nbsp;</span>&nbsp;<br><span lang=\"KO-KR\">-</span><span lang=\"KO-KR\">&nbsp;</span><span lang=\"KO-KR\">병원을 수련하지 않은 일반의도&nbsp;</span><span lang=\"EN-US\">MRI</span><span lang=\"KO-KR\">를</span><span lang=\"KO-KR\">&nbsp;판독할 수 있도록 함&nbsp;</span>&nbsp;<br><span lang=\"KO-KR\">-&nbsp;</span><span lang=\"KO-KR\">환자가&nbsp;</span><span lang=\"EN-US\">MRI</span><span lang=\"KO-KR\">&nbsp;영상을 가지고 와도 당황하지 않고, 차근차근 설명할 수 있음&nbsp;</span>&nbsp;</p><p><br></p><h2><span lang=\"KO-KR\"><strong>기획자의 소개</strong></span><strong>&nbsp;</strong></h2><p><span lang=\"KO-KR\">&nbsp;다들&nbsp;</span><span lang=\"EN-US\">MRI</span><span lang=\"KO-KR\">&nbsp;</span><span lang=\"EN-US\">CD</span><span lang=\"KO-KR\">를</span><span lang=\"KO-KR\">&nbsp;들고 온 환자 한&nbsp;</span><span lang=\"KO-KR\">분쯤</span><span lang=\"KO-KR\">은</span><span lang=\"KO-KR\">&nbsp;</span><span lang=\"KO-KR\">만나보셨을</span><span lang=\"KO-KR\">&nbsp;겁니다.</span><span lang=\"KO-KR\">&nbsp;</span><span lang=\"KO-KR\">이럴 때 어려우셨나요?</span><span lang=\"KO-KR\">&nbsp;</span><span lang=\"KO-KR\">그냥&nbsp;</span><span lang=\"KO-KR\">‘</span><span lang=\"KO-KR\">병원에서 문제없다 했으니&nbsp;</span><span lang=\"KO-KR\">괜찮겠지</span><span lang=\"KO-KR\">’</span><span lang=\"KO-KR\">하면서</span><span lang=\"KO-KR\">&nbsp;</span><span lang=\"KO-KR\">찝찝해 하셨나요</span><span lang=\"KO-KR\">?</span><span lang=\"KO-KR\">&nbsp;</span><span lang=\"KO-KR\">혼자&nbsp;</span><span lang=\"KO-KR\">공부하려니</span><span lang=\"KO-KR\">&nbsp;시간과 투자에 비해 나아지는 바도 모르겠고,</span><span lang=\"KO-KR\">&nbsp;</span><span lang=\"KO-KR\">결국 환자의&nbsp;</span><span lang=\"EN-US\">MRI CD</span><span lang=\"KO-KR\">는 항상 어색한</span><span lang=\"KO-KR\">,</span><span lang=\"KO-KR\">&nbsp;</span><span lang=\"KO-KR\">그런 분들을 위해 강의를 기획했습니다.</span><span lang=\"KO-KR\">&nbsp;</span>&nbsp;<br><span lang=\"KO-KR\">&nbsp;강사자가 영상만을 설명한다면,</span><span lang=\"KO-KR\">&nbsp;</span><span lang=\"KO-KR\">결국 돌아온 진료실에서</span><span lang=\"KO-KR\">&nbsp;</span><span lang=\"KO-KR\">임상과 어떻게 연결</span><span lang=\"KO-KR\">시킬지</span><span lang=\"KO-KR\">&nbsp;감이 오지 않습니다.</span><span lang=\"KO-KR\">&nbsp;</span><span lang=\"KO-KR\">그리고 강의가 끝나고 물어볼 곳이 없다면, 혼자서 어떻게 해야 할지&nbsp;</span><span lang=\"KO-KR\">모르겠죠.</span><span lang=\"KO-KR\">&nbsp;</span><span lang=\"KO-KR\">그리고 혼자 공부하기 위한 기초지식은 어떻게 습득해야&nbsp;</span><span lang=\"KO-KR\">할까</span><span lang=\"KO-KR\">요.</span><span lang=\"KO-KR\">&nbsp;</span><span lang=\"KO-KR\">또</span><span lang=\"KO-KR\">&nbsp;</span><span lang=\"KO-KR\">영상을 공부하다&nbsp;</span><span lang=\"KO-KR\">확실히 맞게 보았는지</span><span lang=\"KO-KR\">&nbsp;물어봐야 할 때, 어디로 물어봐야 할까요?</span><span lang=\"KO-KR\">&nbsp;</span><span lang=\"KO-KR\">어려움이 많습니다.</span><span lang=\"KO-KR\">&nbsp;</span><span lang=\"KO-KR\">그래서 연륜 있는 강사&nbsp;</span><span lang=\"KO-KR\">분을 모셨습니다.</span><span lang=\"KO-KR\">&nbsp;허리 질환-진단-영상을 제대로 배우실 수 있는 기회</span><span lang=\"KO-KR\">,&nbsp;</span><span lang=\"EN-US\">Pre-</span><span lang=\"EN-US\">Intern이</span><span lang=\"EN-US\">&nbsp;</span><span lang=\"EN-US\">준비했습니다</span><span lang=\"EN-US\">.</span><span data-ccp-props=\\'{\"201341983\":0,\"335551550\":6,\"335551620\":6,\"335559739\":160,\"335559740\":240}\\'>&nbsp;</span></p><p><br></p><table border=\"1\" data-tablelook=\"1184\" data-tablestyle=\"MsoTableGrid\"><tbody><tr><td data-celllook=\"273\"><p><strong><span lang=\"KO-KR\">“</span><span lang=\"KO-KR\">처음을 모르면 끝까지 모른다</span><span lang=\"KO-KR\">”</span></strong><span data-ccp-props=\\'{\"201341983\":0,\"335551550\":6,\"335551620\":6,\"335559740\":259}\\'><strong>&nbsp;</strong></span></p></td><td data-celllook=\"257\"><p><span lang=\"KO-KR\">강의 전 기초 정보 제공</span><span lang=\"KO-KR\">.</span><span lang=\"KO-KR\">&nbsp;</span><span lang=\"KO-KR\">패널 토론 허리</span><span lang=\"KO-KR\">&nbsp;</span><span lang=\"KO-KR\">편&nbsp;</span><span lang=\"EN-US\">1-2</span><span lang=\"KO-KR\">차 정독필수</span><span data-ccp-props=\\'{\"201341983\":0,\"335551550\":6,\"335551620\":6,\"335559740\":259}\\'>&nbsp;</span></p></td></tr><tr><td data-celllook=\"272\"><p><span lang=\"KO-KR\"><strong>“</strong></span><strong><span lang=\"KO-KR\">강의 참석 전 기본정보 학습을 체크!</span><span lang=\"KO-KR\">”</span></strong><span data-ccp-props=\\'{\"201341983\":0,\"335551550\":6,\"335551620\":6,\"335559740\":259}\\'><strong>&nbsp;</strong></span></p></td><td data-celllook=\"256\"><p><span lang=\"KO-KR\">간단 퀴즈 제공</span><span lang=\"KO-KR\">,&nbsp;</span><span lang=\"KO-KR\">참석자 맞춤형 강의를 위한&nbsp;</span><span lang=\"KO-KR\">사전&nbsp;</span><span lang=\"KO-KR\">설문</span><span data-ccp-props=\\'{\"201341983\":0,\"335551550\":6,\"335551620\":6,\"335559740\":259}\\'>&nbsp;</span></p></td></tr><tr><td data-celllook=\"272\"><p><span lang=\"KO-KR\"><strong>“</strong></span><strong><span lang=\"KO-KR\">기초부터</span><span lang=\"KO-KR\">&nbsp;</span><span lang=\"EN-US\">MRI까지&nbsp;설명</span><span lang=\"KO-KR\">”</span></strong><span data-ccp-props=\\'{\"201341983\":0,\"335551550\":6,\"335551620\":6,\"335559740\":259}\\'><strong>&nbsp;</strong></span></p></td><td data-celllook=\"256\"><p><span lang=\"KO-KR\">허리 통증의 최신 지견</span><span lang=\"KO-KR\">, 각 질환별&nbsp;</span><span lang=\"EN-US\">MRI</span><span lang=\"KO-KR\">&nbsp;학습</span><span data-ccp-props=\\'{\"201341983\":0,\"335551550\":6,\"335551620\":6,\"335559740\":259}\\'>&nbsp;</span></p></td></tr><tr><td data-celllook=\"272\"><p><span lang=\"EN-US\"><strong>“CASE&nbsp;</strong></span><strong><span lang=\"KO-KR\">문제풀기</span><span lang=\"KO-KR\">”</span></strong><span data-ccp-props=\\'{\"201341983\":0,\"335551550\":6,\"335551620\":6,\"335559740\":259}\\'><strong>&nbsp;</strong></span></p></td><td data-celllook=\"256\"><p><span lang=\"KO-KR\">최대한 공통의 케이스를 자발적으로 풀어내려고 하는데 목표</span><span data-ccp-props=\\'{\"201341983\":0,\"335551550\":6,\"335551620\":6,\"335559740\":259}\\'>&nbsp;</span></p></td></tr><tr><td data-celllook=\"272\"><p><span lang=\"KO-KR\"><strong>“</strong></span><strong><span lang=\"KO-KR\">후속 교류 게시판 제공</span><span lang=\"KO-KR\">”</span></strong><span data-ccp-props=\\'{\"201341983\":0,\"335551550\":6,\"335551620\":6,\"335559740\":259}\\'><strong>&nbsp;</strong></span></p></td><td data-celllook=\"256\"><p><span lang=\"KO-KR\">케이스 공유 후&nbsp;</span><span lang=\"KO-KR\">강사자 관리 하의&nbsp;</span><span lang=\"KO-KR\">문답 가능 게시판 제공</span><span data-ccp-props=\\'{\"201341983\":0,\"335551550\":6,\"335551620\":6,\"335559740\":259}\\'>&nbsp;</span></p></td></tr></tbody></table><p>&nbsp;</p><h2><span lang=\"KO-KR\"><strong>강사자의&nbsp;</strong></span><strong><span lang=\"KO-KR\">소개</span>&nbsp;</strong></h2><p><span lang=\"KO-KR\">“</span><span lang=\"KO-KR\">임상의사가</span><span lang=\"EN-US\">&nbsp;</span><span lang=\"EN-US\">MRI를</span><span lang=\"EN-US\">&nbsp;</span><span lang=\"EN-US\">본다는</span><span lang=\"KO-KR\">&nbsp;</span><span lang=\"KO-KR\">건</span><span lang=\"KO-KR\">,</span><span lang=\"KO-KR\">&nbsp;사실 해당 질환을 알고 환자를 보면서 같이 매칭한다는 뜻입니다. 즉 질환의 정의를 알지 못한다면 영상도 볼 수 없습니다. 영상의학과</span><span lang=\"KO-KR\">&nbsp;</span><span lang=\"KO-KR\">전문의는 영상에 담긴 전체 정보를&nbsp;</span><span lang=\"KO-KR\">파악한다</span><span lang=\"KO-KR\">면, 임상 전문의는 영상을 보며 통증 제어를 어떻게 할지 고민합니다.&nbsp;</span><span lang=\"KO-KR\">임상 전문의로써 설명</span><span lang=\"KO-KR\">&nbsp;</span><span lang=\"KO-KR\">드립니다</span><span lang=\"KO-KR\">”&nbsp;</span>&nbsp;</p><p><br></p><h2><span lang=\"KO-KR\"><strong>강사자</strong></span><span lang=\"KO-KR\"><strong>&nbsp;</strong></span></h2><p><span lang=\"KO-KR\">:</span><span lang=\"KO-KR\">&nbsp;</span><span lang=\"KO-KR\">&nbsp;</span><span lang=\"EN-US\">S.&nbsp;</span><span lang=\"KO-KR\">복수면허 의과 전문의</span><span lang=\"KO-KR\">.</span><span lang=\"KO-KR\">&nbsp;</span>&nbsp;</p><p><span lang=\"KO-KR\">*</span><span lang=\"KO-KR\">&nbsp;</span><span lang=\"KO-KR\">영상이 포함된 강의 내용은 지금 굉장히 민감한 문제로,</span><span lang=\"KO-KR\">&nbsp;</span><span lang=\"KO-KR\">강의 공고 후 취소압박이 해당 강사에게 들어옵니다.&nbsp;</span><span lang=\"KO-KR\">실제로 취소된 사례가 앞서 있습니다.</span><span lang=\"KO-KR\">&nbsp;</span><span lang=\"KO-KR\">부담스러</span><span lang=\"KO-KR\">운</span><span lang=\"KO-KR\">&nbsp;문제로</span><span lang=\"KO-KR\">&nbsp;강사자의 이름과 이력은 강연장에서 오픈합니다.</span><span lang=\"KO-KR\">&nbsp;이해 부탁드립니다.</span><span lang=\"KO-KR\">&nbsp;</span><span lang=\"KO-KR\">(</span><span lang=\"KO-KR\">사진,</span><span lang=\"KO-KR\">&nbsp;</span><span lang=\"KO-KR\">동영상,</span><span lang=\"KO-KR\">&nbsp;</span><span lang=\"KO-KR\">녹음은 허용되지 않습니다.</span><span lang=\"KO-KR\">)</span><span lang=\"KO-KR\">&nbsp;</span><span data-ccp-props=\\'{\"201341983\":0,\"335551550\":6,\"335551620\":6,\"335559739\":160,\"335559740\":240}\\'>&nbsp;</span></p><p><br></p><h2><span lang=\"KO-KR\"><strong>날</strong></span><span lang=\"KO-KR\"><strong>짜</strong>&nbsp;</span><span lang=\"KO-KR\">&nbsp; &nbsp;&nbsp;</span><span lang=\"KO-KR\">&nbsp;</span></h2><p><span lang=\"KO-KR\">2017년&nbsp;</span><span lang=\"EN-US\">9월&nbsp;</span><span lang=\"EN-US\">9</span><span lang=\"KO-KR\">일 토요일 저녁&nbsp;</span><span lang=\"EN-US\">6</span><span lang=\"KO-KR\">시&nbsp;</span><span lang=\"EN-US\">– 10</span><span lang=\"KO-KR\">시</span><span lang=\"KO-KR\">&nbsp;/ 강남역 근처</span><span lang=\"KO-KR\">&nbsp;(조율 중으로 확정 후 연락드립니다.</span><span lang=\"KO-KR\">)</span><span lang=\"KO-KR\">&nbsp;</span><span data-ccp-props=\\'{\"201341983\":0,\"335551550\":6,\"335551620\":6,\"335559739\":160,\"335559740\":240}\\'>&nbsp;</span></p><p><br></p><h2><span lang=\"KO-KR\"><strong>인원</strong></span><span lang=\"KO-KR\"><strong>&nbsp;</strong> &nbsp;</span><span lang=\"KO-KR\">&nbsp;</span><span lang=\"KO-KR\">&nbsp;</span><span lang=\"KO-KR\">&nbsp;</span><span lang=\"KO-KR\">&nbsp;</span></h2><p><span lang=\"EN-US\">40</span><span lang=\"KO-KR\">명 제한&nbsp;</span><span lang=\"EN-US\">/ 20</span><span lang=\"KO-KR\">명 이상 진행</span><span data-ccp-props=\\'{\"201341983\":0,\"335551550\":6,\"335551620\":6,\"335559685\":196,\"335559739\":160,\"335559740\":240,\"335559991\":196,\"335559992\":100}\\'>&nbsp;</span></p><p><br></p><h2><span lang=\"KO-KR\"><strong>비용</strong></span><span lang=\"KO-KR\">&nbsp; &nbsp;&nbsp;</span><span lang=\"KO-KR\">&nbsp;</span><span lang=\"KO-KR\">&nbsp;</span><span lang=\"KO-KR\">&nbsp;</span></h2><p><span lang=\"EN-US\">15</span><span lang=\"KO-KR\">만원&nbsp;</span><span lang=\"KO-KR\">(&nbsp;</span><span lang=\"KO-KR\">영수증&nbsp;불가 )</span><span data-ccp-props=\\'{\"201341983\":0,\"335551550\":6,\"335551620\":6,\"335559685\":196,\"335559739\":160,\"335559740\":240,\"335559991\":196,\"335559992\":100}\\'>&nbsp;</span></p><p><br></p><h2><span lang=\"KO-KR\"><strong>수강신청</strong></span><span lang=\"KO-KR\">&nbsp;</span><span lang=\"KO-KR\">&nbsp;</span></h2><p><span lang=\"KO-KR\">농협</span><span lang=\"EN-US\">&nbsp;356-1200-3712-43 김철민</span><span lang=\"KO-KR\">&nbsp;입금순&nbsp;</span></p><p><span lang=\"KO-KR\">신청서 제출&nbsp;</span><span lang=\"KO-KR\">&nbsp;</span><span lang=\"EN-US\">https://goo.gl/b5TzTA</span><span data-ccp-props=\\'{\"201341983\":0,\"335551550\":6,\"335551620\":6,\"335559685\":981,\"335559739\":160,\"335559740\":240,\"335559991\":981,\"335559992\":500}\\'>&nbsp;</span></p>'"
      ]
     },
     "execution_count": 29,
     "metadata": {},
     "output_type": "execute_result"
    }
   ],
   "source": [
    "l.iloc[:,10][1]"
   ]
  },
  {
   "cell_type": "code",
   "execution_count": null,
   "metadata": {},
   "outputs": [],
   "source": []
  }
 ],
 "metadata": {
  "kernelspec": {
   "display_name": "Python 3.8.13 ('tensorflow')",
   "language": "python",
   "name": "python3"
  },
  "language_info": {
   "codemirror_mode": {
    "name": "ipython",
    "version": 3
   },
   "file_extension": ".py",
   "mimetype": "text/x-python",
   "name": "python",
   "nbconvert_exporter": "python",
   "pygments_lexer": "ipython3",
   "version": "3.8.13"
  },
  "orig_nbformat": 4,
  "vscode": {
   "interpreter": {
    "hash": "4bd624a0593993fe43ac4046b27b898fb2ef75c21c08f81e89e64ea0f51df676"
   }
  }
 },
 "nbformat": 4,
 "nbformat_minor": 2
}
